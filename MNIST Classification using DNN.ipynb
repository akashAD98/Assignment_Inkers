{
 "cells": [
  {
   "cell_type": "markdown",
   "metadata": {
    "colab_type": "text",
    "id": "iQjHqsmTAVLU"
   },
   "source": [
    "### Fashion MNIST using DNN."
   ]
  },
  {
   "cell_type": "code",
   "execution_count": 4,
   "metadata": {
    "colab": {
     "base_uri": "https://localhost:8080/",
     "height": 374
    },
    "colab_type": "code",
    "id": "sfQRyaJWAIdg",
    "outputId": "b615505c-1d44-4682-e12b-d798ac1b6078"
   },
   "outputs": [
    {
     "name": "stdout",
     "output_type": "stream",
     "text": [
      "Epoch 1/5\n",
      "60000/60000 [==============================] - 41s 685us/sample - loss: 0.1418 - acc: 0.9574\n",
      "Epoch 2/5\n",
      "60000/60000 [==============================] - 38s 639us/sample - loss: 0.0503 - acc: 0.9850\n",
      "Epoch 3/5\n",
      "60000/60000 [==============================] - 38s 638us/sample - loss: 0.0326 - acc: 0.9902\n",
      "Epoch 4/5\n",
      "60000/60000 [==============================] - 38s 638us/sample - loss: 0.0212 - acc: 0.9931\n",
      "Epoch 5/5\n",
      "59968/60000 [============================>.] - ETA: 0s - loss: 0.0141 - acc: 0.9957\n",
      "Reached 99.8% accuracy so cancelling training!\n",
      "60000/60000 [==============================] - 38s 635us/sample - loss: 0.0141 - acc: 0.9957\n"
     ]
    },
    {
     "data": {
      "text/plain": [
       "<tensorflow.python.keras.callbacks.History at 0x292aebd77c8>"
      ]
     },
     "execution_count": 4,
     "metadata": {},
     "output_type": "execute_result"
    }
   ],
   "source": [
    "import tensorflow as tf\n",
    "\n",
    "class myCallback(tf.keras.callbacks.Callback):\n",
    "  def on_epoch_end(self, epoch, logs={}):\n",
    "    if(logs.get('acc')>0.994):\n",
    "      print('\\nReached 99.8% accuracy so cancelling training!')\n",
    "\n",
    "callbacks=myCallback()\n",
    "  \n",
    "mnist = tf.keras.datasets.mnist\n",
    "(training_images, training_labels), (test_images, test_labels) = mnist.load_data()\n",
    "\n",
    "training_images=training_images.reshape(60000, 28, 28, 1)\n",
    "training_images=training_images/255.0\n",
    "test_images=test_images.reshape(10000, 28, 28, 1)\n",
    "test_images=test_images/255.0\n",
    "\n",
    "\n",
    "model = tf.keras.models.Sequential([\n",
    "    \n",
    "tf.keras.layers.Conv2D(32, (3,3), activation='relu',input_shape=(28,28,1)),\n",
    "tf.keras.layers.MaxPooling2D(2,2),\n",
    "tf.keras.layers.Flatten(),\n",
    "tf.keras.layers.Dense(128, activation='relu'),\n",
    "tf.keras.layers.Dense(10, activation='softmax')\n",
    "    \n",
    "])\n",
    "\n",
    "model.compile(optimizer='adam', loss='sparse_categorical_crossentropy', metrics=['accuracy'])\n",
    "model.fit(training_images,training_labels, epochs=5, callbacks=[callbacks])\n",
    "\n"
   ]
  },
  {
   "cell_type": "code",
   "execution_count": null,
   "metadata": {},
   "outputs": [],
   "source": []
  }
 ],
 "metadata": {
  "accelerator": "GPU",
  "colab": {
   "collapsed_sections": [],
   "name": "Coursera-AI,ML,DL-week 3-Exercise 3.ipynb",
   "provenance": [],
   "version": "0.3.2"
  },
  "kernelspec": {
   "display_name": "Python 3",
   "language": "python",
   "name": "python3"
  },
  "language_info": {
   "codemirror_mode": {
    "name": "ipython",
    "version": 3
   },
   "file_extension": ".py",
   "mimetype": "text/x-python",
   "name": "python",
   "nbconvert_exporter": "python",
   "pygments_lexer": "ipython3",
   "version": "3.7.4"
  }
 },
 "nbformat": 4,
 "nbformat_minor": 1
}
